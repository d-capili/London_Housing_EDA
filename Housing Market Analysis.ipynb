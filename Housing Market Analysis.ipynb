{
 "cells": [
  {
   "cell_type": "markdown",
   "id": "92ba058d",
   "metadata": {},
   "source": [
    "# Housing Market Analysis\n",
    "\n",
    "The dataset below contains data ranging from the year 1995 to 2020 of each different area, \n",
    "\n",
    "It displays information regarding the monthly average house prices, the yearly number of homes sold, and the monthly number of crimes committed within the area.\n"
   ]
  },
  {
   "cell_type": "code",
   "execution_count": 78,
   "id": "68c489c5",
   "metadata": {},
   "outputs": [],
   "source": [
    "import os\n",
    "import pandas as pd\n",
    "import numpy as np\n",
    "import matplotlib.pyplot as plt\n",
    "import seaborn as sns"
   ]
  },
  {
   "cell_type": "code",
   "execution_count": 79,
   "id": "993939eb",
   "metadata": {},
   "outputs": [
    {
     "data": {
      "text/plain": [
       "'/Users/denniscapili/Dropbox/Data_Analyst/Portfolio/London Housing/London Housing'"
      ]
     },
     "execution_count": 79,
     "metadata": {},
     "output_type": "execute_result"
    }
   ],
   "source": [
    "os.getcwd()"
   ]
  },
  {
   "cell_type": "code",
   "execution_count": 80,
   "id": "0b1aaa52",
   "metadata": {},
   "outputs": [
    {
     "data": {
      "text/html": [
       "<div>\n",
       "<style scoped>\n",
       "    .dataframe tbody tr th:only-of-type {\n",
       "        vertical-align: middle;\n",
       "    }\n",
       "\n",
       "    .dataframe tbody tr th {\n",
       "        vertical-align: top;\n",
       "    }\n",
       "\n",
       "    .dataframe thead th {\n",
       "        text-align: right;\n",
       "    }\n",
       "</style>\n",
       "<table border=\"1\" class=\"dataframe\">\n",
       "  <thead>\n",
       "    <tr style=\"text-align: right;\">\n",
       "      <th></th>\n",
       "      <th>date</th>\n",
       "      <th>area</th>\n",
       "      <th>average_price</th>\n",
       "      <th>code</th>\n",
       "      <th>houses_sold</th>\n",
       "      <th>no_of_crimes</th>\n",
       "      <th>borough_flag</th>\n",
       "    </tr>\n",
       "  </thead>\n",
       "  <tbody>\n",
       "    <tr>\n",
       "      <th>0</th>\n",
       "      <td>1995-01-01</td>\n",
       "      <td>city of london</td>\n",
       "      <td>91449</td>\n",
       "      <td>E09000001</td>\n",
       "      <td>17.00</td>\n",
       "      <td>NaN</td>\n",
       "      <td>1</td>\n",
       "    </tr>\n",
       "    <tr>\n",
       "      <th>1</th>\n",
       "      <td>1995-02-01</td>\n",
       "      <td>city of london</td>\n",
       "      <td>82203</td>\n",
       "      <td>E09000001</td>\n",
       "      <td>7.00</td>\n",
       "      <td>NaN</td>\n",
       "      <td>1</td>\n",
       "    </tr>\n",
       "    <tr>\n",
       "      <th>2</th>\n",
       "      <td>1995-03-01</td>\n",
       "      <td>city of london</td>\n",
       "      <td>79121</td>\n",
       "      <td>E09000001</td>\n",
       "      <td>14.00</td>\n",
       "      <td>NaN</td>\n",
       "      <td>1</td>\n",
       "    </tr>\n",
       "    <tr>\n",
       "      <th>3</th>\n",
       "      <td>1995-04-01</td>\n",
       "      <td>city of london</td>\n",
       "      <td>77101</td>\n",
       "      <td>E09000001</td>\n",
       "      <td>7.00</td>\n",
       "      <td>NaN</td>\n",
       "      <td>1</td>\n",
       "    </tr>\n",
       "    <tr>\n",
       "      <th>4</th>\n",
       "      <td>1995-05-01</td>\n",
       "      <td>city of london</td>\n",
       "      <td>84409</td>\n",
       "      <td>E09000001</td>\n",
       "      <td>10.00</td>\n",
       "      <td>NaN</td>\n",
       "      <td>1</td>\n",
       "    </tr>\n",
       "    <tr>\n",
       "      <th>...</th>\n",
       "      <td>...</td>\n",
       "      <td>...</td>\n",
       "      <td>...</td>\n",
       "      <td>...</td>\n",
       "      <td>...</td>\n",
       "      <td>...</td>\n",
       "      <td>...</td>\n",
       "    </tr>\n",
       "    <tr>\n",
       "      <th>13544</th>\n",
       "      <td>2019-09-01</td>\n",
       "      <td>england</td>\n",
       "      <td>249942</td>\n",
       "      <td>E92000001</td>\n",
       "      <td>64,605.00</td>\n",
       "      <td>NaN</td>\n",
       "      <td>0</td>\n",
       "    </tr>\n",
       "    <tr>\n",
       "      <th>13545</th>\n",
       "      <td>2019-10-01</td>\n",
       "      <td>england</td>\n",
       "      <td>249376</td>\n",
       "      <td>E92000001</td>\n",
       "      <td>68,677.00</td>\n",
       "      <td>NaN</td>\n",
       "      <td>0</td>\n",
       "    </tr>\n",
       "    <tr>\n",
       "      <th>13546</th>\n",
       "      <td>2019-11-01</td>\n",
       "      <td>england</td>\n",
       "      <td>248515</td>\n",
       "      <td>E92000001</td>\n",
       "      <td>67,814.00</td>\n",
       "      <td>NaN</td>\n",
       "      <td>0</td>\n",
       "    </tr>\n",
       "    <tr>\n",
       "      <th>13547</th>\n",
       "      <td>2019-12-01</td>\n",
       "      <td>england</td>\n",
       "      <td>250410</td>\n",
       "      <td>E92000001</td>\n",
       "      <td>NaN</td>\n",
       "      <td>NaN</td>\n",
       "      <td>0</td>\n",
       "    </tr>\n",
       "    <tr>\n",
       "      <th>13548</th>\n",
       "      <td>2020-01-01</td>\n",
       "      <td>england</td>\n",
       "      <td>247355</td>\n",
       "      <td>E92000001</td>\n",
       "      <td>NaN</td>\n",
       "      <td>NaN</td>\n",
       "      <td>0</td>\n",
       "    </tr>\n",
       "  </tbody>\n",
       "</table>\n",
       "<p>13549 rows × 7 columns</p>\n",
       "</div>"
      ],
      "text/plain": [
       "             date            area  average_price       code  houses_sold  \\\n",
       "0      1995-01-01  city of london          91449  E09000001        17.00   \n",
       "1      1995-02-01  city of london          82203  E09000001         7.00   \n",
       "2      1995-03-01  city of london          79121  E09000001        14.00   \n",
       "3      1995-04-01  city of london          77101  E09000001         7.00   \n",
       "4      1995-05-01  city of london          84409  E09000001        10.00   \n",
       "...           ...             ...            ...        ...          ...   \n",
       "13544  2019-09-01         england         249942  E92000001    64,605.00   \n",
       "13545  2019-10-01         england         249376  E92000001    68,677.00   \n",
       "13546  2019-11-01         england         248515  E92000001    67,814.00   \n",
       "13547  2019-12-01         england         250410  E92000001          NaN   \n",
       "13548  2020-01-01         england         247355  E92000001          NaN   \n",
       "\n",
       "       no_of_crimes  borough_flag  \n",
       "0               NaN             1  \n",
       "1               NaN             1  \n",
       "2               NaN             1  \n",
       "3               NaN             1  \n",
       "4               NaN             1  \n",
       "...             ...           ...  \n",
       "13544           NaN             0  \n",
       "13545           NaN             0  \n",
       "13546           NaN             0  \n",
       "13547           NaN             0  \n",
       "13548           NaN             0  \n",
       "\n",
       "[13549 rows x 7 columns]"
      ]
     },
     "execution_count": 80,
     "metadata": {},
     "output_type": "execute_result"
    }
   ],
   "source": [
    "# Importing dataset\n",
    "ldn_mthly = pd.read_csv('housing_in_london_monthly_variables.csv')\n",
    "ldn_mthly\n",
    "ldn_mthly_md = ldn_mthly\n",
    "ldn_mthly_md"
   ]
  },
  {
   "cell_type": "code",
   "execution_count": 81,
   "id": "c3325138",
   "metadata": {},
   "outputs": [
    {
     "name": "stdout",
     "output_type": "stream",
     "text": [
      "<class 'pandas.core.frame.DataFrame'>\n",
      "RangeIndex: 13549 entries, 0 to 13548\n",
      "Data columns (total 7 columns):\n",
      " #   Column         Non-Null Count  Dtype  \n",
      "---  ------         --------------  -----  \n",
      " 0   date           13549 non-null  object \n",
      " 1   area           13549 non-null  object \n",
      " 2   average_price  13549 non-null  int64  \n",
      " 3   code           13549 non-null  object \n",
      " 4   houses_sold    13455 non-null  float64\n",
      " 5   no_of_crimes   7439 non-null   float64\n",
      " 6   borough_flag   13549 non-null  int64  \n",
      "dtypes: float64(2), int64(2), object(3)\n",
      "memory usage: 741.1+ KB\n"
     ]
    }
   ],
   "source": [
    "ldn_mthly_md.info()"
   ]
  },
  {
   "cell_type": "code",
   "execution_count": 82,
   "id": "8e42ef5a",
   "metadata": {},
   "outputs": [
    {
     "data": {
      "text/plain": [
       "date                0\n",
       "area                0\n",
       "average_price       0\n",
       "code                0\n",
       "houses_sold        94\n",
       "no_of_crimes     6110\n",
       "borough_flag        0\n",
       "dtype: int64"
      ]
     },
     "execution_count": 82,
     "metadata": {},
     "output_type": "execute_result"
    }
   ],
   "source": [
    "# Checking NULL values in columns\n",
    "ldn_mthly_md.isnull().sum()"
   ]
  },
  {
   "cell_type": "code",
   "execution_count": 12,
   "id": "ba7aa117",
   "metadata": {},
   "outputs": [
    {
     "data": {
      "text/html": [
       "<div>\n",
       "<style scoped>\n",
       "    .dataframe tbody tr th:only-of-type {\n",
       "        vertical-align: middle;\n",
       "    }\n",
       "\n",
       "    .dataframe tbody tr th {\n",
       "        vertical-align: top;\n",
       "    }\n",
       "\n",
       "    .dataframe thead th {\n",
       "        text-align: right;\n",
       "    }\n",
       "</style>\n",
       "<table border=\"1\" class=\"dataframe\">\n",
       "  <thead>\n",
       "    <tr style=\"text-align: right;\">\n",
       "      <th></th>\n",
       "      <th>average_price</th>\n",
       "      <th>houses_sold</th>\n",
       "      <th>no_of_crimes</th>\n",
       "      <th>borough_flag</th>\n",
       "    </tr>\n",
       "  </thead>\n",
       "  <tbody>\n",
       "    <tr>\n",
       "      <th>count</th>\n",
       "      <td>1.354900e+04</td>\n",
       "      <td>13455.000000</td>\n",
       "      <td>7439.000000</td>\n",
       "      <td>13549.000000</td>\n",
       "    </tr>\n",
       "    <tr>\n",
       "      <th>mean</th>\n",
       "      <td>2.635197e+05</td>\n",
       "      <td>3893.994129</td>\n",
       "      <td>2158.352063</td>\n",
       "      <td>0.733338</td>\n",
       "    </tr>\n",
       "    <tr>\n",
       "      <th>std</th>\n",
       "      <td>1.876175e+05</td>\n",
       "      <td>12114.402476</td>\n",
       "      <td>902.087742</td>\n",
       "      <td>0.442230</td>\n",
       "    </tr>\n",
       "    <tr>\n",
       "      <th>min</th>\n",
       "      <td>4.072200e+04</td>\n",
       "      <td>2.000000</td>\n",
       "      <td>0.000000</td>\n",
       "      <td>0.000000</td>\n",
       "    </tr>\n",
       "    <tr>\n",
       "      <th>25%</th>\n",
       "      <td>1.323800e+05</td>\n",
       "      <td>247.000000</td>\n",
       "      <td>1623.000000</td>\n",
       "      <td>0.000000</td>\n",
       "    </tr>\n",
       "    <tr>\n",
       "      <th>50%</th>\n",
       "      <td>2.229190e+05</td>\n",
       "      <td>371.000000</td>\n",
       "      <td>2132.000000</td>\n",
       "      <td>1.000000</td>\n",
       "    </tr>\n",
       "    <tr>\n",
       "      <th>75%</th>\n",
       "      <td>3.368430e+05</td>\n",
       "      <td>3146.000000</td>\n",
       "      <td>2582.000000</td>\n",
       "      <td>1.000000</td>\n",
       "    </tr>\n",
       "    <tr>\n",
       "      <th>max</th>\n",
       "      <td>1.463378e+06</td>\n",
       "      <td>132163.000000</td>\n",
       "      <td>7461.000000</td>\n",
       "      <td>1.000000</td>\n",
       "    </tr>\n",
       "  </tbody>\n",
       "</table>\n",
       "</div>"
      ],
      "text/plain": [
       "       average_price    houses_sold  no_of_crimes  borough_flag\n",
       "count   1.354900e+04   13455.000000   7439.000000  13549.000000\n",
       "mean    2.635197e+05    3893.994129   2158.352063      0.733338\n",
       "std     1.876175e+05   12114.402476    902.087742      0.442230\n",
       "min     4.072200e+04       2.000000      0.000000      0.000000\n",
       "25%     1.323800e+05     247.000000   1623.000000      0.000000\n",
       "50%     2.229190e+05     371.000000   2132.000000      1.000000\n",
       "75%     3.368430e+05    3146.000000   2582.000000      1.000000\n",
       "max     1.463378e+06  132163.000000   7461.000000      1.000000"
      ]
     },
     "execution_count": 12,
     "metadata": {},
     "output_type": "execute_result"
    }
   ],
   "source": [
    "ldn_mthly_md.describe()"
   ]
  },
  {
   "cell_type": "code",
   "execution_count": 83,
   "id": "88300459",
   "metadata": {},
   "outputs": [
    {
     "data": {
      "text/html": [
       "<div>\n",
       "<style scoped>\n",
       "    .dataframe tbody tr th:only-of-type {\n",
       "        vertical-align: middle;\n",
       "    }\n",
       "\n",
       "    .dataframe tbody tr th {\n",
       "        vertical-align: top;\n",
       "    }\n",
       "\n",
       "    .dataframe thead th {\n",
       "        text-align: right;\n",
       "    }\n",
       "</style>\n",
       "<table border=\"1\" class=\"dataframe\">\n",
       "  <thead>\n",
       "    <tr style=\"text-align: right;\">\n",
       "      <th></th>\n",
       "      <th>Counts</th>\n",
       "      <th>%Missing:</th>\n",
       "    </tr>\n",
       "  </thead>\n",
       "  <tbody>\n",
       "    <tr>\n",
       "      <th>no_of_crimes</th>\n",
       "      <td>6110</td>\n",
       "      <td>45.10</td>\n",
       "    </tr>\n",
       "    <tr>\n",
       "      <th>houses_sold</th>\n",
       "      <td>94</td>\n",
       "      <td>0.69</td>\n",
       "    </tr>\n",
       "    <tr>\n",
       "      <th>date</th>\n",
       "      <td>0</td>\n",
       "      <td>0.00</td>\n",
       "    </tr>\n",
       "    <tr>\n",
       "      <th>area</th>\n",
       "      <td>0</td>\n",
       "      <td>0.00</td>\n",
       "    </tr>\n",
       "    <tr>\n",
       "      <th>average_price</th>\n",
       "      <td>0</td>\n",
       "      <td>0.00</td>\n",
       "    </tr>\n",
       "  </tbody>\n",
       "</table>\n",
       "</div>"
      ],
      "text/plain": [
       "               Counts  %Missing: \n",
       "no_of_crimes     6110       45.10\n",
       "houses_sold        94        0.69\n",
       "date                0        0.00\n",
       "area                0        0.00\n",
       "average_price       0        0.00"
      ]
     },
     "execution_count": 83,
     "metadata": {},
     "output_type": "execute_result"
    }
   ],
   "source": [
    "# Creating columns, First taking the null values and sorting from most to least\n",
    "null_df_m = ldn_mthly_md.isnull().sum().sort_values(ascending = False)\n",
    "\n",
    "# Second taking the NULL values sum and dividing by the amount of NULL values, sorting from most then multiplying by 100\n",
    "percent = (ldn_mthly_md.isnull().sum() / ldn_mthly_md.isnull().count()).sort_values(ascending = False) * 100\n",
    "\n",
    "# Concatenating the two columns together with keys as shown\n",
    "null_df_m = pd.concat([null_df_m, percent], axis = 1, keys = ['Counts', '%Missing: '])\n",
    "\n",
    "null_df_m.head()"
   ]
  },
  {
   "cell_type": "markdown",
   "id": "151b1362",
   "metadata": {},
   "source": [
    "ldn_mthly_md.drop[('no_of_crimes')]"
   ]
  },
  {
   "cell_type": "code",
   "execution_count": 84,
   "id": "ed7b5ab4",
   "metadata": {
    "collapsed": true
   },
   "outputs": [
    {
     "data": {
      "text/html": [
       "<div>\n",
       "<style scoped>\n",
       "    .dataframe tbody tr th:only-of-type {\n",
       "        vertical-align: middle;\n",
       "    }\n",
       "\n",
       "    .dataframe tbody tr th {\n",
       "        vertical-align: top;\n",
       "    }\n",
       "\n",
       "    .dataframe thead th {\n",
       "        text-align: right;\n",
       "    }\n",
       "</style>\n",
       "<table border=\"1\" class=\"dataframe\">\n",
       "  <thead>\n",
       "    <tr style=\"text-align: right;\">\n",
       "      <th></th>\n",
       "      <th>date</th>\n",
       "      <th>area</th>\n",
       "      <th>average_price</th>\n",
       "      <th>code</th>\n",
       "      <th>houses_sold</th>\n",
       "      <th>borough_flag</th>\n",
       "    </tr>\n",
       "  </thead>\n",
       "  <tbody>\n",
       "    <tr>\n",
       "      <th>0</th>\n",
       "      <td>1995-01-01</td>\n",
       "      <td>city of london</td>\n",
       "      <td>91449</td>\n",
       "      <td>E09000001</td>\n",
       "      <td>17.00</td>\n",
       "      <td>1</td>\n",
       "    </tr>\n",
       "    <tr>\n",
       "      <th>1</th>\n",
       "      <td>1995-02-01</td>\n",
       "      <td>city of london</td>\n",
       "      <td>82203</td>\n",
       "      <td>E09000001</td>\n",
       "      <td>7.00</td>\n",
       "      <td>1</td>\n",
       "    </tr>\n",
       "    <tr>\n",
       "      <th>2</th>\n",
       "      <td>1995-03-01</td>\n",
       "      <td>city of london</td>\n",
       "      <td>79121</td>\n",
       "      <td>E09000001</td>\n",
       "      <td>14.00</td>\n",
       "      <td>1</td>\n",
       "    </tr>\n",
       "    <tr>\n",
       "      <th>3</th>\n",
       "      <td>1995-04-01</td>\n",
       "      <td>city of london</td>\n",
       "      <td>77101</td>\n",
       "      <td>E09000001</td>\n",
       "      <td>7.00</td>\n",
       "      <td>1</td>\n",
       "    </tr>\n",
       "    <tr>\n",
       "      <th>4</th>\n",
       "      <td>1995-05-01</td>\n",
       "      <td>city of london</td>\n",
       "      <td>84409</td>\n",
       "      <td>E09000001</td>\n",
       "      <td>10.00</td>\n",
       "      <td>1</td>\n",
       "    </tr>\n",
       "    <tr>\n",
       "      <th>...</th>\n",
       "      <td>...</td>\n",
       "      <td>...</td>\n",
       "      <td>...</td>\n",
       "      <td>...</td>\n",
       "      <td>...</td>\n",
       "      <td>...</td>\n",
       "    </tr>\n",
       "    <tr>\n",
       "      <th>13544</th>\n",
       "      <td>2019-09-01</td>\n",
       "      <td>england</td>\n",
       "      <td>249942</td>\n",
       "      <td>E92000001</td>\n",
       "      <td>64,605.00</td>\n",
       "      <td>0</td>\n",
       "    </tr>\n",
       "    <tr>\n",
       "      <th>13545</th>\n",
       "      <td>2019-10-01</td>\n",
       "      <td>england</td>\n",
       "      <td>249376</td>\n",
       "      <td>E92000001</td>\n",
       "      <td>68,677.00</td>\n",
       "      <td>0</td>\n",
       "    </tr>\n",
       "    <tr>\n",
       "      <th>13546</th>\n",
       "      <td>2019-11-01</td>\n",
       "      <td>england</td>\n",
       "      <td>248515</td>\n",
       "      <td>E92000001</td>\n",
       "      <td>67,814.00</td>\n",
       "      <td>0</td>\n",
       "    </tr>\n",
       "    <tr>\n",
       "      <th>13547</th>\n",
       "      <td>2019-12-01</td>\n",
       "      <td>england</td>\n",
       "      <td>250410</td>\n",
       "      <td>E92000001</td>\n",
       "      <td>NaN</td>\n",
       "      <td>0</td>\n",
       "    </tr>\n",
       "    <tr>\n",
       "      <th>13548</th>\n",
       "      <td>2020-01-01</td>\n",
       "      <td>england</td>\n",
       "      <td>247355</td>\n",
       "      <td>E92000001</td>\n",
       "      <td>NaN</td>\n",
       "      <td>0</td>\n",
       "    </tr>\n",
       "  </tbody>\n",
       "</table>\n",
       "<p>13549 rows × 6 columns</p>\n",
       "</div>"
      ],
      "text/plain": [
       "             date            area  average_price       code  houses_sold  \\\n",
       "0      1995-01-01  city of london          91449  E09000001        17.00   \n",
       "1      1995-02-01  city of london          82203  E09000001         7.00   \n",
       "2      1995-03-01  city of london          79121  E09000001        14.00   \n",
       "3      1995-04-01  city of london          77101  E09000001         7.00   \n",
       "4      1995-05-01  city of london          84409  E09000001        10.00   \n",
       "...           ...             ...            ...        ...          ...   \n",
       "13544  2019-09-01         england         249942  E92000001    64,605.00   \n",
       "13545  2019-10-01         england         249376  E92000001    68,677.00   \n",
       "13546  2019-11-01         england         248515  E92000001    67,814.00   \n",
       "13547  2019-12-01         england         250410  E92000001          NaN   \n",
       "13548  2020-01-01         england         247355  E92000001          NaN   \n",
       "\n",
       "       borough_flag  \n",
       "0                 1  \n",
       "1                 1  \n",
       "2                 1  \n",
       "3                 1  \n",
       "4                 1  \n",
       "...             ...  \n",
       "13544             0  \n",
       "13545             0  \n",
       "13546             0  \n",
       "13547             0  \n",
       "13548             0  \n",
       "\n",
       "[13549 rows x 6 columns]"
      ]
     },
     "execution_count": 84,
     "metadata": {},
     "output_type": "execute_result"
    }
   ],
   "source": [
    "ldn_mthly_md.drop(columns=['no_of_crimes'])"
   ]
  },
  {
   "cell_type": "code",
   "execution_count": 85,
   "id": "4d0d4346",
   "metadata": {},
   "outputs": [
    {
     "data": {
      "text/html": [
       "<div>\n",
       "<style scoped>\n",
       "    .dataframe tbody tr th:only-of-type {\n",
       "        vertical-align: middle;\n",
       "    }\n",
       "\n",
       "    .dataframe tbody tr th {\n",
       "        vertical-align: top;\n",
       "    }\n",
       "\n",
       "    .dataframe thead th {\n",
       "        text-align: right;\n",
       "    }\n",
       "</style>\n",
       "<table border=\"1\" class=\"dataframe\">\n",
       "  <thead>\n",
       "    <tr style=\"text-align: right;\">\n",
       "      <th></th>\n",
       "      <th>date</th>\n",
       "      <th>area</th>\n",
       "      <th>average_price</th>\n",
       "      <th>code</th>\n",
       "      <th>houses_sold</th>\n",
       "      <th>no_of_crimes</th>\n",
       "      <th>borough_flag</th>\n",
       "      <th>year</th>\n",
       "    </tr>\n",
       "  </thead>\n",
       "  <tbody>\n",
       "    <tr>\n",
       "      <th>0</th>\n",
       "      <td>1995-01-01</td>\n",
       "      <td>city of london</td>\n",
       "      <td>91449</td>\n",
       "      <td>E09000001</td>\n",
       "      <td>17.00</td>\n",
       "      <td>NaN</td>\n",
       "      <td>1</td>\n",
       "      <td>1995</td>\n",
       "    </tr>\n",
       "  </tbody>\n",
       "</table>\n",
       "</div>"
      ],
      "text/plain": [
       "         date            area  average_price       code  houses_sold  \\\n",
       "0  1995-01-01  city of london          91449  E09000001        17.00   \n",
       "\n",
       "   no_of_crimes  borough_flag  year  \n",
       "0           NaN             1  1995  "
      ]
     },
     "execution_count": 85,
     "metadata": {},
     "output_type": "execute_result"
    }
   ],
   "source": [
    "ldn_mthly_md['year'] = pd.DatetimeIndex(ldn_mthly_md['date']).year\n",
    "ldn_mthly_md.head(1)"
   ]
  },
  {
   "cell_type": "code",
   "execution_count": 86,
   "id": "53f09ee3",
   "metadata": {},
   "outputs": [],
   "source": [
    "# Since the information from the year 2020 wasn't completed we will only be using the data from 2019 and before\n",
    "ldn_mthly_md = ldn_mthly_md[ldn_mthly_md['year'] < 2020]"
   ]
  },
  {
   "cell_type": "markdown",
   "id": "3bb78894",
   "metadata": {},
   "source": [
    "## Exploring the Data"
   ]
  },
  {
   "cell_type": "code",
   "execution_count": 87,
   "id": "ab1b4639",
   "metadata": {},
   "outputs": [
    {
     "name": "stdout",
     "output_type": "stream",
     "text": [
      "Amount of boroughs within London\n"
     ]
    },
    {
     "data": {
      "text/plain": [
       "33"
      ]
     },
     "execution_count": 87,
     "metadata": {},
     "output_type": "execute_result"
    }
   ],
   "source": [
    "# A borough is a town or a district. In this dataset there are two different boroughs outlined therefore two \n",
    "# different cities so we will seperate them and conduct the analysis\n",
    "\n",
    "# Amount of boroughs within London\n",
    "ldn_mthly1 = ldn_mthly_md[ldn_mthly_md['borough_flag'] == 1 ]['area'].unique()\n",
    "print('Amount of boroughs within London')\n",
    "len(ldn_mthly1)"
   ]
  },
  {
   "cell_type": "code",
   "execution_count": 88,
   "id": "c015b23f",
   "metadata": {
    "collapsed": true
   },
   "outputs": [
    {
     "data": {
      "text/plain": [
       "['city of london',\n",
       " 'barking and dagenham',\n",
       " 'barnet',\n",
       " 'bexley',\n",
       " 'brent',\n",
       " 'bromley',\n",
       " 'camden',\n",
       " 'croydon',\n",
       " 'ealing',\n",
       " 'enfield',\n",
       " 'tower hamlets',\n",
       " 'greenwich',\n",
       " 'hackney',\n",
       " 'hammersmith and fulham',\n",
       " 'haringey',\n",
       " 'harrow',\n",
       " 'havering',\n",
       " 'hillingdon',\n",
       " 'hounslow',\n",
       " 'islington',\n",
       " 'kensington and chelsea',\n",
       " 'kingston upon thames',\n",
       " 'lambeth',\n",
       " 'lewisham',\n",
       " 'merton',\n",
       " 'newham',\n",
       " 'redbridge',\n",
       " 'richmond upon thames',\n",
       " 'southwark',\n",
       " 'sutton',\n",
       " 'waltham forest',\n",
       " 'wandsworth',\n",
       " 'westminster']"
      ]
     },
     "execution_count": 88,
     "metadata": {},
     "output_type": "execute_result"
    }
   ],
   "source": [
    "list(ldn_mthly1)"
   ]
  },
  {
   "cell_type": "code",
   "execution_count": 97,
   "id": "5242f62a",
   "metadata": {},
   "outputs": [
    {
     "name": "stdout",
     "output_type": "stream",
     "text": [
      "Amount of boroughs outside of London\n",
      "12\n"
     ]
    },
    {
     "data": {
      "text/plain": [
       "array(['south east', 'inner london', 'outer london', 'north east',\n",
       "       'north west', 'yorks and the humber', 'east midlands',\n",
       "       'west midlands', 'east of england', 'london', 'south west',\n",
       "       'england'], dtype=object)"
      ]
     },
     "execution_count": 97,
     "metadata": {},
     "output_type": "execute_result"
    }
   ],
   "source": [
    "# Amount of borough outside of London\n",
    "eng_mthly0 = ldn_mthly_md[ldn_mthly_md['borough_flag'] == 0 ]['area'].unique()\n",
    "print('Amount of boroughs outside of London')\n",
    "print(len(eng_mthly0))\n",
    "eng_mthly0"
   ]
  },
  {
   "cell_type": "code",
   "execution_count": 98,
   "id": "15571f1a",
   "metadata": {},
   "outputs": [],
   "source": [
    "# We have to manually add the regions specific to England, as there are some related to London\n",
    "eng_regions = ['south west', 'south east', 'east of england', 'west midlands', 'east midlands', 'yorks and the humber', 'north west', 'north east']"
   ]
  },
  {
   "cell_type": "code",
   "execution_count": 104,
   "id": "58ba5844",
   "metadata": {},
   "outputs": [],
   "source": [
    "ldn = ldn_mthly_md[ldn_mthly_md['area'].isin(len_mthly1)]\n",
    "eng = ldn_mthly_md[ldn_mthly_md['area'].isin(eng_regions)]"
   ]
  },
  {
   "cell_type": "code",
   "execution_count": 74,
   "id": "bf671f7f",
   "metadata": {},
   "outputs": [],
   "source": [
    "#ldn = ldn_mthly_md[ldn_mthly_md['borough_flag'] == 1 ]\n",
    "#eng = ldn_mthly_md[ldn_mthly_md['borough_flag'] == 0 ]"
   ]
  },
  {
   "cell_type": "code",
   "execution_count": 105,
   "id": "820eee1e",
   "metadata": {},
   "outputs": [],
   "source": [
    "lnd_pr = ldn.groupby('date')['average_price'].mean()\n",
    "eng_pr = eng.groupby('date')['average_price'].mean()"
   ]
  },
  {
   "cell_type": "code",
   "execution_count": 106,
   "id": "493c936c",
   "metadata": {},
   "outputs": [],
   "source": [
    "pd.options.display.float_format = '{:,.2f}'.format\n",
    "pd.set_option('precision', 2)\n",
    "font_size = 17"
   ]
  },
  {
   "cell_type": "code",
   "execution_count": 122,
   "id": "0684bc4c",
   "metadata": {
    "scrolled": true
   },
   "outputs": [
    {
     "data": {
      "image/png": "[encoded data removed]",
      "text/plain": [
       "<Figure size 648x360 with 1 Axes>"
      ]
     },
     "metadata": {
      "needs_background": "light"
     },
     "output_type": "display_data"
    }
   ],
   "source": [
    "# Chart presenting differences in price over time in London and England \n",
    "\n",
    "Font_size = 17\n",
    "\n",
    "plt.figure(figsize = (9, 5))\n",
    "\n",
    "lnd_pr.plot(y = 'average_price', color = 'royalblue', lw = 2, label = 'London')\n",
    "eng_pr.plot(y = 'average_price', color = 'firebrick', lw = 2, label = 'England')\n",
    "\n",
    "plt.title('Time evolution of the average house price', size = font_size)\n",
    "plt.ylabel('Average Price', size = font_size)\n",
    "plt.xticks(size = font_size - 5)\n",
    "plt.xlabel('Date', size = font_size)\n",
    "plt.yticks(size = font_size - 3)\n",
    "plt.legend(fontsize = font_size - 3);\n",
    "\n"
   ]
  },
  {
   "cell_type": "markdown",
   "id": "ff19ab55",
   "metadata": {},
   "source": [
    "### Top Areas in London"
   ]
  },
  {
   "cell_type": "code",
   "execution_count": 108,
   "id": "a3efa5d1",
   "metadata": {
    "scrolled": true
   },
   "outputs": [
    {
     "data": {
      "text/plain": [
       "area\n",
       "kensington and chelsea   740,606.68\n",
       "westminster              542,282.06\n",
       "camden                   466,358.25\n",
       "hammersmith and fulham   442,773.38\n",
       "city of london           422,771.36\n",
       "richmond upon thames     381,640.97\n",
       "islington                364,160.28\n",
       "wandsworth               341,411.03\n",
       "barnet                   304,272.12\n",
       "haringey                 292,017.11\n",
       "Name: average_price, dtype: float64"
      ]
     },
     "execution_count": 108,
     "metadata": {},
     "output_type": "execute_result"
    }
   ],
   "source": [
    "ldn_prices = Ldn.groupby('area')['average_price'].mean()\n",
    "ldn_10 = lnd_prices.sort_values(ascending = False)\n",
    "ldn_10.head(10)"
   ]
  },
  {
   "cell_type": "code",
   "execution_count": 109,
   "id": "214a9a34",
   "metadata": {},
   "outputs": [
    {
     "data": {
      "image/png": "[encoded data removed]",
      "text/plain": [
       "<Figure size 648x360 with 1 Axes>"
      ]
     },
     "metadata": {
      "needs_background": "light"
     },
     "output_type": "display_data"
    }
   ],
   "source": [
    "# Charting the values above\n",
    "top5_indeces = ldn_10.head().index\n",
    "colors = ['#e74c3c', '#3498db', '#95a5a6', '#34495e', '#2ecc71']\n",
    "\n",
    "plt.figure(figsize = (9, 5))\n",
    "\n",
    "for index, i in enumerate(top5_indeces):\n",
    "    df_ = ldn[ldn['area'] == i]\n",
    "    df_ = df_.groupby('date')['average_price'].mean()\n",
    "    \n",
    "    df_.plot(y = 'average_price', label = i, color = colors[index])\n",
    "       \n",
    "plt.title('Average price in the most expensive boroughs', y = 1.04, size = font_size)\n",
    "plt.xlabel('Date', size = font_size)\n",
    "plt.xticks(size = font_size - 3)\n",
    "plt.ylabel('Average Price', size = font_size)\n",
    "plt.yticks([0.2*1E+6, 0.6*1E+6, 1.0*1E+6, 1.4*1E+6], size = font_size - 3)\n",
    "plt.legend(fontsize = font_size - 5);\n"
   ]
  },
  {
   "cell_type": "markdown",
   "id": "9e0efa59",
   "metadata": {},
   "source": [
    "### Top Areas in England"
   ]
  },
  {
   "cell_type": "code",
   "execution_count": 110,
   "id": "3ce20dc1",
   "metadata": {},
   "outputs": [
    {
     "data": {
      "text/plain": [
       "area\n",
       "south east             195,653.01\n",
       "east of england        170,796.17\n",
       "south west             163,050.03\n",
       "west midlands          126,857.76\n",
       "east midlands          121,403.03\n",
       "yorks and the humber   108,925.11\n",
       "north west             108,602.98\n",
       "north east              96,942.57\n",
       "Name: average_price, dtype: float64"
      ]
     },
     "execution_count": 110,
     "metadata": {},
     "output_type": "execute_result"
    }
   ],
   "source": [
    "#Grouping by area and sorting in terms of average price in descending order\n",
    "eng_price = eng.groupby('area')['average_price'].mean()\n",
    "eng_10 = eng_price.sort_values(ascending = False)\n",
    "eng_10.head(10)\n"
   ]
  },
  {
   "cell_type": "code",
   "execution_count": 124,
   "id": "8cfd07a6",
   "metadata": {},
   "outputs": [
    {
     "data": {
      "image/png": "[encoded data removed]",
      "text/plain": [
       "<Figure size 648x360 with 1 Axes>"
      ]
     },
     "metadata": {
      "needs_background": "light"
     },
     "output_type": "display_data"
    }
   ],
   "source": [
    "top3_indeces = eng_10.head(3).index\n",
    "colors = ['darkorange', '#8EB8E5', 'forestgreen', ]\n",
    "\n",
    "plt.figure(figsize = (9, 5))\n",
    "\n",
    "for index, i in enumerate(top3_indeces):\n",
    "    df_ = eng[eng['area'] == i]\n",
    "    df_ = df_.groupby('date')['average_price'].mean()\n",
    "    df_.plot(y = 'average_price', label = i, color = colors[index])\n",
    "\n",
    "plt.title('Average price in the most expensive English regions by date', size = font_size, y = 1.04)\n",
    "plt.xlabel('Date', size = font_size)\n",
    "plt.xticks(size = font_size - 5)\n",
    "plt.ylabel('Average Price', size = font_size)\n",
    "plt.yticks([100_000, 200_000, 300_000], size = font_size - 4)\n",
    "plt.legend(fontsize = font_size - 3);\n"
   ]
  },
  {
   "cell_type": "markdown",
   "id": "bba77f45",
   "metadata": {},
   "source": [
    "### Homes Sold"
   ]
  },
  {
   "cell_type": "code",
   "execution_count": 120,
   "id": "ee9ca8b9",
   "metadata": {},
   "outputs": [
    {
     "data": {
      "text/plain": [
       "date\n",
       "1995-01-01    7506.0\n",
       "1995-02-01    6873.0\n",
       "1995-03-01    9639.0\n",
       "1995-04-01    8053.0\n",
       "1995-05-01    9293.0\n",
       "               ...  \n",
       "2019-08-01    7749.0\n",
       "2019-09-01    6475.0\n",
       "2019-10-01    6802.0\n",
       "2019-11-01    6433.0\n",
       "2019-12-01       0.0\n",
       "Name: houses_sold, Length: 300, dtype: float64"
      ]
     },
     "execution_count": 120,
     "metadata": {},
     "output_type": "execute_result"
    }
   ],
   "source": [
    "# Home sold in London\n",
    "lnd_sold = Ldn.groupby('date')['houses_sold'].sum()\n",
    "lnd_sold"
   ]
  },
  {
   "cell_type": "code",
   "execution_count": 116,
   "id": "dd6c786c",
   "metadata": {},
   "outputs": [
    {
     "name": "stdout",
     "output_type": "stream",
     "text": [
      "Top 5 Areas with Highest Sales\n"
     ]
    },
    {
     "data": {
      "text/plain": [
       "area\n",
       "wandsworth   163,871.00\n",
       "bromley      148,516.00\n",
       "croydon      145,906.00\n",
       "barnet       133,648.00\n",
       "lambeth      117,953.00\n",
       "Name: houses_sold, dtype: float64"
      ]
     },
     "execution_count": 116,
     "metadata": {},
     "output_type": "execute_result"
    }
   ],
   "source": [
    "# Which area in London had the most sales\n",
    "ldn_homes = Ldn.groupby('area')['houses_sold'].sum()\n",
    "ldn_10 = ldn_homes.sort_values(ascending = False)\n",
    "print('Top 5 Areas with Highest Sales')\n",
    "ldn_10.head(5)"
   ]
  },
  {
   "cell_type": "code",
   "execution_count": 121,
   "id": "69003dba",
   "metadata": {},
   "outputs": [
    {
     "name": "stdout",
     "output_type": "stream",
     "text": [
      "Top 5 Areas in England with Highest Home Sales\n"
     ]
    },
    {
     "data": {
      "text/plain": [
       "area\n",
       "south east             4,195,116.00\n",
       "north west             2,895,280.00\n",
       "east of england        2,809,800.00\n",
       "south west             2,639,661.00\n",
       "yorks and the humber   2,183,762.00\n",
       "Name: houses_sold, dtype: float64"
      ]
     },
     "execution_count": 121,
     "metadata": {},
     "output_type": "execute_result"
    }
   ],
   "source": [
    "eng_homes = eng.groupby('area')['houses_sold'].sum()\n",
    "eng_10_homes = eng_homes.sort_values(ascending = False)\n",
    "print('Top 5 Areas in England with Highest Home Sales')\n",
    "eng_10_homes.head(5)"
   ]
  },
  {
   "cell_type": "markdown",
   "id": "09f006fc",
   "metadata": {},
   "source": [
    "# Conclusion\n",
    "1. When comparing locations, within London and outside of London, you can see that the prices in homes rose siignificantly between 1999 and 2000 within London. While the prices outside of London steadily rose. This is due to the fact that with London being the capital it provided individuals with more job oppurtunities therefore more demand in homes.\n",
    "\n",
    "2. The housing market crashed during the 2008 recession but started to steadily increase again in 2009, and then skyrocketed in 2012. \n",
    "\n",
    "3. The major areas within London that had the most sales were Wandsworth and Bromley, while the most expensive homes were in Kensington and Chelsea \n"
   ]
  },
  {
   "cell_type": "code",
   "execution_count": null,
   "id": "85211faa",
   "metadata": {},
   "outputs": [],
   "source": []
  }
 ],
 "metadata": {
  "kernelspec": {
   "display_name": "Python 3 (ipykernel)",
   "language": "python",
   "name": "python3"
  },
  "language_info": {
   "codemirror_mode": {
    "name": "ipython",
    "version": 3
   },
   "file_extension": ".py",
   "mimetype": "text/x-python",
   "name": "python",
   "nbconvert_exporter": "python",
   "pygments_lexer": "ipython3",
   "version": "3.9.7"
  }
 },
 "nbformat": 4,
 "nbformat_minor": 5
}
